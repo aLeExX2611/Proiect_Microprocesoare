{
 "cells": [
  {
   "cell_type": "markdown",
   "id": "679a5bc2",
   "metadata": {},
   "source": [
    "Inspiratie: https://www.youtube.com/watch?v=0V-6pu1Gyp8&ab_channel=Dr.SachinSharma\n",
    "\n",
    "\n",
    "Initial trebuie instalat pachetul 'serial',deoarece nu este inclus in Python, cu urmatoarea comanda:"
   ]
  },
  {
   "cell_type": "code",
   "execution_count": 3,
   "id": "6af76239",
   "metadata": {},
   "outputs": [
    {
     "name": "stdout",
     "output_type": "stream",
     "text": [
      "Requirement already satisfied: pyserial in d:\\anaconda\\lib\\site-packages (3.5)\n",
      "Note: you may need to restart the kernel to use updated packages.\n"
     ]
    }
   ],
   "source": [
    " pip install pyserial"
   ]
  },
  {
   "cell_type": "code",
   "execution_count": 2,
   "id": "27eea178",
   "metadata": {},
   "outputs": [],
   "source": [
    "from matplotlib.backends.backend_tkagg import FigureCanvasTkAgg\n",
    "from matplotlib.figure import Figure\n",
    "import tkinter as tk\n",
    "import numpy as np\n",
    "import serial.tools.list_ports\n",
    "import re\n",
    "import serial as sr\n",
    "\n",
    "#----- global variables ----\n",
    "data = np.array([])\n",
    "data_color = np.array([])\n",
    "cond = False\n",
    "\n",
    "\n",
    "#def set_color(val):\n",
    "#    global data_color\n",
    "#    if(val<33):\n",
    "#        data_color = np.append(data_color,'g')\n",
    "#    if(val>=33 and val<66 ):\n",
    "#        data_color = np.append(data_color,'y')\n",
    "#    if(val>=66):\n",
    "#        data_color = np.append(data_color,'r')\n",
    "        \n",
    "        \n",
    "#----- plot data ----\n",
    "def plot_data():\n",
    "    global cond,data # true= am apasat pe butonul de Start si atunci facem plot \n",
    "    \n",
    "    if(cond == True):\n",
    "        a = s.readline()\n",
    "        a_dec = a.decode()\n",
    "        val_senzor = re.findall(r'\\d+',a_dec)\n",
    "        #print(val_senzor[0])\n",
    "        #print('\\n')\n",
    "        \n",
    "        if(len(data)<100):\n",
    "            data = np.append(data,float(val_senzor[0]))\n",
    "        else:\n",
    "            data[0:99] = data[1:100]\n",
    "            data[99]=float(val_senzor[0])\n",
    "            \n",
    "       \n",
    "        lines.set_xdata(np.arange(0,len(data)))\n",
    "        lines.set_ydata(data)\n",
    "        \n",
    "        canvas.draw()\n",
    "        \n",
    "    root.after(1,plot_data)\n",
    "    \n",
    "    \n",
    "def plot_start():\n",
    "    global cond\n",
    "    cond = True\n",
    "    s.reset_input_buffer()\n",
    "    \n",
    "def plot_stop():\n",
    "    global cond\n",
    "    cond = False\n",
    "    \n",
    "#-----Main GUI code------\n",
    "root = tk.Tk()\n",
    "root.title('Real Time plot test')\n",
    "root.configure(background = 'light blue')\n",
    "root.geometry(\"900x500\")\n",
    "\n",
    "#-----create Plot object on GUI-------\n",
    "fig  = Figure()\n",
    "ax = fig.add_subplot(111)\n",
    "\n",
    "ax.set_title('TSI Data')\n",
    "ax.set_xlabel('Ultimele 100 de valori')\n",
    "ax.set_ylabel('Valoare citita')\n",
    "ax.set_xlim(0,100)\n",
    "ax.set_ylim(-0.5,100)\n",
    "\n",
    "lines = ax.plot([],[])[0] \n",
    "\n",
    "canvas = FigureCanvasTkAgg(fig, master = root)\n",
    "canvas.get_tk_widget().place(x=10,y=10,width=600,height=400)\n",
    "canvas.draw()\n",
    "\n",
    "\n",
    "#----- creare buton\n",
    "root.update();\n",
    "start = tk.Button(root, text=\"Start\", font=('calibri',12),command=lambda:plot_start())\n",
    "start.place (x=50, y =450)\n",
    "\n",
    "root.update();\n",
    "stop = tk.Button(root, text=\"Stop\", font=('calibri',12),command=lambda:plot_stop())\n",
    "stop.place(x= start.winfo_x()+start.winfo_reqwidth()+20, y=450)\n",
    "\n",
    "\n",
    "# start serial port\n",
    "s = sr.Serial('COM6',115200)\n",
    "s.reset_input_buffer()\n",
    "\n",
    "root.after(1,plot_data)\n",
    "##\n",
    "root.mainloop()"
   ]
  },
  {
   "cell_type": "code",
   "execution_count": null,
   "id": "2c6d6422",
   "metadata": {},
   "outputs": [],
   "source": []
  },
  {
   "cell_type": "code",
   "execution_count": null,
   "id": "c00bb869",
   "metadata": {},
   "outputs": [],
   "source": []
  }
 ],
 "metadata": {
  "kernelspec": {
   "display_name": "Python 3 (ipykernel)",
   "language": "python",
   "name": "python3"
  },
  "language_info": {
   "codemirror_mode": {
    "name": "ipython",
    "version": 3
   },
   "file_extension": ".py",
   "mimetype": "text/x-python",
   "name": "python",
   "nbconvert_exporter": "python",
   "pygments_lexer": "ipython3",
   "version": "3.9.12"
  }
 },
 "nbformat": 4,
 "nbformat_minor": 5
}
